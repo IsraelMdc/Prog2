{
 "cells": [
  {
   "cell_type": "code",
   "execution_count": null,
   "metadata": {},
   "outputs": [],
   "source": [
    "# Regressiva:\n",
    "# Faca uma funcao que crie e retorne uma lista com todos os numeros\n",
    "# pares de 1 a 100, por ́em na ordem regressiva."
   ]
  },
  {
   "cell_type": "code",
   "execution_count": 64,
   "metadata": {},
   "outputs": [
    {
     "name": "stdout",
     "output_type": "stream",
     "text": [
      "[100, 98, 96, 94, 92, 90, 88, 86, 84, 82, 80, 78, 76, 74, 72, 70, 68, 66, 64, 62, 60, 58, 56, 54, 52, 50, 48, 46, 44, 42, 40, 38, 36, 34, 32, 30, 28, 26, 24, 22, 20, 18, 16, 14, 12, 10, 8, 6, 4]\n"
     ]
    }
   ],
   "source": [
    "listaPar = []\n",
    "contador = 0\n",
    "\n",
    "def par(contador,listaPar):\n",
    "    while contador < 100:\n",
    "        contador = contador + 1\n",
    "        numero = contador\n",
    "        if numero % 2 == 0:\n",
    "            listaPar.append(numero)\n",
    "    \n",
    "    i = len(listaPar)-1\n",
    "    lk = []\n",
    "    \n",
    "    while  i > 0:\n",
    "        lk.append(listaPar[i])\n",
    "        i-=1\n",
    "    return listaPar,lk\n",
    "\n",
    "listaPar,lk = par(contador,listaPar)\n",
    "\n",
    "print(lk)"
   ]
  },
  {
   "cell_type": "code",
   "execution_count": 67,
   "metadata": {},
   "outputs": [
    {
     "name": "stdout",
     "output_type": "stream",
     "text": [
      "[1, 2, 1, 1, 1, 1, 1, 2, 4, 5, 65, 3]\n"
     ]
    }
   ],
   "source": [
    "lista1 = []\n",
    "lista2 = []\n",
    "\n",
    "qtdElementos_lista = 3\n",
    "\n",
    "while elemento != qtdElementos_lista:\n",
    "    elemento = int(input(\"Digite um elemento 1\"))\n",
    "    lista1.append(elemento)\n",
    "\n",
    "\n",
    "\n",
    "\n",
    "\n",
    "print(lista1)\n"
   ]
  },
  {
   "cell_type": "code",
   "execution_count": null,
   "metadata": {},
   "outputs": [],
   "source": [
    "while range(len(lista2)) != qtdElementos_lista:\n",
    "    elemento = int(input(\"Digite um elemento 2\"))\n",
    "    lista2.append(elemento)\n",
    "\n",
    "    lista3 = lista1 + lista2\n",
    "\n",
    "print(lista2)\n",
    "print(lista3)\n"
   ]
  }
 ],
 "metadata": {
  "kernelspec": {
   "display_name": "Python 3",
   "language": "python",
   "name": "python3"
  },
  "language_info": {
   "codemirror_mode": {
    "name": "ipython",
    "version": 3
   },
   "file_extension": ".py",
   "mimetype": "text/x-python",
   "name": "python",
   "nbconvert_exporter": "python",
   "pygments_lexer": "ipython3",
   "version": "3.10.1"
  },
  "orig_nbformat": 4
 },
 "nbformat": 4,
 "nbformat_minor": 2
}
